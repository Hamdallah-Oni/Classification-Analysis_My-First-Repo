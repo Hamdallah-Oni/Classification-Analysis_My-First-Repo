{
 "cells": [
  {
   "cell_type": "markdown",
   "id": "3837a71d-702c-4e22-af95-06589eecc75f",
   "metadata": {},
   "source": [
    "# LIST\n",
    "## LIST METHOD\n",
    "### DOC:List is a collection of multiple items stored in a variable"
   ]
  },
  {
   "cell_type": "code",
   "execution_count": 2,
   "id": "41c2bc55-a831-4187-954f-80c5f53b0119",
   "metadata": {},
   "outputs": [
    {
     "name": "stdout",
     "output_type": "stream",
     "text": [
      "['orange', 'banana', 45, True, 'Apples', 'pineapples']\n"
     ]
    }
   ],
   "source": [
    "#Method1: .append()\n",
    "#Use    : It is use add items at the end of a list.\n",
    "\n",
    "#Example:\n",
    "mylist = [\"orange\",\"banana\", 45, True, \"Apples\"]\n",
    "mylist .append(\"pineapples\")\n",
    "print(mylist)"
   ]
  },
  {
   "cell_type": "code",
   "execution_count": null,
   "id": "723e5d21-5c10-49ed-a6b9-ac110c9ea949",
   "metadata": {},
   "outputs": [],
   "source": []
  },
  {
   "cell_type": "code",
   "execution_count": 3,
   "id": "b0b85a9a-08c3-4313-be13-d93fb20201b9",
   "metadata": {},
   "outputs": [
    {
     "name": "stdout",
     "output_type": "stream",
     "text": [
      "['orange', 'banana', 'kiwi', 45, True, 'Apples', 'pineapples']\n"
     ]
    }
   ],
   "source": [
    "#Method2: .insert()\n",
    "#Use    : It is use to add an element at a given position[index]\n",
    "\n",
    "#Example:\n",
    "mylist .insert(2, \"kiwi\")\n",
    "print(mylist)"
   ]
  },
  {
   "cell_type": "code",
   "execution_count": null,
   "id": "7c461686-0ed4-4da9-99be-6b299d1b27a9",
   "metadata": {},
   "outputs": [],
   "source": []
  },
  {
   "cell_type": "code",
   "execution_count": 4,
   "id": "a96d9c01-f0d3-443c-92d5-07a307b9c506",
   "metadata": {},
   "outputs": [],
   "source": [
    "#Method3: del keyword\n",
    "#Use    : It is used to remove a specified index or list completely if index is unspecified\n",
    "\n",
    "#Example:\n",
    "mylist = [\"orange\", \"banana\", \"kiwi\", 45, True, \"Apple\", \"pineapples\"]\n",
    "del mylist[2]"
   ]
  },
  {
   "cell_type": "code",
   "execution_count": null,
   "id": "d377477d-36ab-4b7c-b785-5a4c33c1823a",
   "metadata": {},
   "outputs": [],
   "source": []
  },
  {
   "cell_type": "code",
   "execution_count": 19,
   "id": "f10b719e-d3f9-4225-9001-4d5511cc19e8",
   "metadata": {},
   "outputs": [
    {
     "data": {
      "text/plain": [
       "'pineapples'"
      ]
     },
     "execution_count": 19,
     "metadata": {},
     "output_type": "execute_result"
    }
   ],
   "source": [
    "#Method4: pop()\n",
    "#Use    : It removes specified index or the last element if index is unspecified\n",
    "\n",
    "#Example:\n",
    "\n",
    "mylist.pop(2)"
   ]
  },
  {
   "cell_type": "code",
   "execution_count": null,
   "id": "b3fa190f-5da5-44ce-a6ee-482644b82ea7",
   "metadata": {},
   "outputs": [],
   "source": []
  },
  {
   "cell_type": "code",
   "execution_count": 16,
   "id": "2b16a4b5-c2c1-45ce-b400-70d1f977738d",
   "metadata": {},
   "outputs": [
    {
     "data": {
      "text/plain": [
       "['blueberry', 'strawberry', 'kiwi', 'apples', 'lemon']"
      ]
     },
     "execution_count": 16,
     "metadata": {},
     "output_type": "execute_result"
    }
   ],
   "source": [
    "#Method5: copy()\n",
    "#Use    : This returns a copy of the specified list\n",
    "\n",
    "#Examples:\n",
    "fruits = [\"blueberry\", \"strawberry\", \"kiwi\", \"apples\", \"lemon\"]\n",
    "fruits_2 = fruits.copy()\n",
    "fruits_2"
   ]
  },
  {
   "cell_type": "code",
   "execution_count": null,
   "id": "7304a924-d62d-4489-9004-e7b7c0093816",
   "metadata": {},
   "outputs": [],
   "source": []
  },
  {
   "cell_type": "code",
   "execution_count": 9,
   "id": "359b5b7d-ab02-4c60-a5b3-16a9cdc9fcf8",
   "metadata": {},
   "outputs": [
    {
     "data": {
      "text/plain": [
       "['John', 'Stone', 'Malta', 'Salman', 'Pepple']"
      ]
     },
     "execution_count": 9,
     "metadata": {},
     "output_type": "execute_result"
    }
   ],
   "source": [
    "names = [\"John\", \"Stone\", \"Malta\",\"Salman\", \"Pepple\"]\n",
    "names"
   ]
  },
  {
   "cell_type": "code",
   "execution_count": 15,
   "id": "ab3cd209-f220-4921-a640-15c5ae8d53b4",
   "metadata": {},
   "outputs": [
    {
     "name": "stdout",
     "output_type": "stream",
     "text": [
      "['John', 'Stone', 'Malta', 'Salman', 'Pepple']\n"
     ]
    }
   ],
   "source": [
    "name_2 = names.copy()\n",
    "print(name_2)"
   ]
  },
  {
   "cell_type": "code",
   "execution_count": null,
   "id": "50060245-310b-4656-ad09-b909b1a5c334",
   "metadata": {},
   "outputs": [],
   "source": []
  },
  {
   "cell_type": "code",
   "execution_count": 20,
   "id": "d149f98b-6efd-4991-bbfb-f820227b4d49",
   "metadata": {},
   "outputs": [
    {
     "data": {
      "text/plain": [
       "1"
      ]
     },
     "execution_count": 20,
     "metadata": {},
     "output_type": "execute_result"
    }
   ],
   "source": [
    "#Method6: count()\n",
    "#Use   :  This returns the number of elements with specified value\n",
    "\n",
    "#Examples:\n",
    "fruits_2.count(\"blueberry\")"
   ]
  },
  {
   "cell_type": "code",
   "execution_count": null,
   "id": "ec9a0d93-486f-414a-9469-26263f67edf5",
   "metadata": {},
   "outputs": [],
   "source": []
  },
  {
   "cell_type": "code",
   "execution_count": 21,
   "id": "f53aa44f-5cf4-406a-9ae4-76d642c25e31",
   "metadata": {},
   "outputs": [
    {
     "data": {
      "text/plain": [
       "4"
      ]
     },
     "execution_count": 21,
     "metadata": {},
     "output_type": "execute_result"
    }
   ],
   "source": [
    "Ages = [2,24,8,8,3,8,10,6,8]\n",
    "Ages.count(8)"
   ]
  },
  {
   "cell_type": "code",
   "execution_count": null,
   "id": "d4c351ec-5764-4484-92bf-61a1972cec5f",
   "metadata": {},
   "outputs": [],
   "source": []
  },
  {
   "cell_type": "code",
   "execution_count": 25,
   "id": "1977872d-2be6-498a-9fd7-407d272454fa",
   "metadata": {},
   "outputs": [
    {
     "data": {
      "text/plain": [
       "[]"
      ]
     },
     "execution_count": 25,
     "metadata": {},
     "output_type": "execute_result"
    }
   ],
   "source": [
    "#Method7: clear()\n",
    "#Use    : This method removes all elements from a list.\n",
    "\n",
    "#Examples:\n",
    "Ages.clear()\n",
    "Ages"
   ]
  },
  {
   "cell_type": "code",
   "execution_count": null,
   "id": "a8015df2-6cd1-484b-b368-dc371f6bacc2",
   "metadata": {},
   "outputs": [],
   "source": []
  },
  {
   "cell_type": "code",
   "execution_count": 24,
   "id": "9e2fe0f8-4ec0-4492-a0a7-73daa3e4c85e",
   "metadata": {},
   "outputs": [
    {
     "name": "stdout",
     "output_type": "stream",
     "text": [
      "[]\n"
     ]
    }
   ],
   "source": [
    "Numbers = [1,2,3,4,1,5,6,1,7,]\n",
    "Numbers.clear()\n",
    "print(Numbers)"
   ]
  },
  {
   "cell_type": "code",
   "execution_count": null,
   "id": "496cd456-906e-4d8d-bad3-5f981aa1be93",
   "metadata": {},
   "outputs": [],
   "source": []
  },
  {
   "cell_type": "code",
   "execution_count": 29,
   "id": "48020a66-2e30-4b87-870f-1441396a23c5",
   "metadata": {},
   "outputs": [
    {
     "data": {
      "text/plain": [
       "['Pepple', 'Salman', 'Malta', 'Stone', 'John']"
      ]
     },
     "execution_count": 29,
     "metadata": {},
     "output_type": "execute_result"
    }
   ],
   "source": [
    "#Method8: reverse()\n",
    "#Use    : This reverses the sorting order of the elements\n",
    "\n",
    "#Examples:\n",
    "name_2.reverse()\n",
    "name_2"
   ]
  },
  {
   "cell_type": "code",
   "execution_count": null,
   "id": "627f4e36-a78d-42b8-865d-fe1cb9a2d3b9",
   "metadata": {},
   "outputs": [],
   "source": []
  },
  {
   "cell_type": "code",
   "execution_count": 30,
   "id": "8a7fb4a6-00b9-4067-8832-3c5d2ed993e5",
   "metadata": {},
   "outputs": [
    {
     "data": {
      "text/plain": [
       "['John', 'Malta', 'Pepple', 'Salman', 'Stone']"
      ]
     },
     "execution_count": 30,
     "metadata": {},
     "output_type": "execute_result"
    }
   ],
   "source": [
    "#Method9: sort()\n",
    "#Use    : This arranges the items in a list alphabetical,ascending or descending order.\n",
    "\n",
    "#Examples:\n",
    "name_2.sort()\n",
    "name_2"
   ]
  },
  {
   "cell_type": "code",
   "execution_count": null,
   "id": "9476ac82-ef7c-4dd9-8137-41ef38efa881",
   "metadata": {},
   "outputs": [],
   "source": []
  },
  {
   "cell_type": "code",
   "execution_count": 32,
   "id": "e800670b-91e5-42a6-9d2a-3ffa99abbefa",
   "metadata": {},
   "outputs": [
    {
     "name": "stdout",
     "output_type": "stream",
     "text": [
      "['John', 'Malta', 'Pepple', 'Salman', 'Stone', 'blueberry', 'strawberry', 'kiwi', 'apples', 'lemon']\n"
     ]
    }
   ],
   "source": [
    "#Method10: extend()\n",
    "#Use     : This adds specified list elements to the end of current list.\n",
    "\n",
    "#Examples:\n",
    "name_2.extend(fruits)\n",
    "print(name_2)"
   ]
  },
  {
   "cell_type": "code",
   "execution_count": null,
   "id": "db7ab862-63ba-4612-91eb-827edd02dd17",
   "metadata": {},
   "outputs": [],
   "source": []
  },
  {
   "cell_type": "code",
   "execution_count": null,
   "id": "1543dcb9-9118-43ea-8a4f-bf7669003e18",
   "metadata": {},
   "outputs": [],
   "source": []
  },
  {
   "cell_type": "code",
   "execution_count": null,
   "id": "9fd68a84-9f39-4e16-92bc-05ef99c69a57",
   "metadata": {},
   "outputs": [],
   "source": []
  },
  {
   "cell_type": "markdown",
   "id": "5a0f51ba-595b-447f-94ef-d6b5a9853d47",
   "metadata": {},
   "source": [
    "# STRINGS\n",
    "## STRING METHODS\n",
    "### DOC:Strings as data types are characters or texts."
   ]
  },
  {
   "cell_type": "code",
   "execution_count": 35,
   "id": "5f01b420-f93e-483f-89fe-d21a181005b5",
   "metadata": {},
   "outputs": [
    {
     "name": "stdout",
     "output_type": "stream",
     "text": [
      "3\n"
     ]
    }
   ],
   "source": [
    "#Method1: index method\n",
    "#Use    : It returns the position of a specified character or value.\n",
    "        \n",
    "\n",
    "#Examples:\n",
    "x = (\"Vintage\")\n",
    "y = x.index(\"t\")\n",
    "print(y)"
   ]
  },
  {
   "cell_type": "code",
   "execution_count": 37,
   "id": "a6f24b22-7c60-4017-b43c-29bf1c84fa4a",
   "metadata": {},
   "outputs": [
    {
     "name": "stdout",
     "output_type": "stream",
     "text": [
      "Vinta\n"
     ]
    }
   ],
   "source": [
    "#Example2:\n",
    "print(x[0:5])"
   ]
  },
  {
   "cell_type": "code",
   "execution_count": null,
   "id": "2d0dc110-113b-45a8-96fd-d8d8b0cc88a8",
   "metadata": {},
   "outputs": [],
   "source": []
  },
  {
   "cell_type": "code",
   "execution_count": 42,
   "id": "f266b4e0-5218-429c-9897-6fa68dd00e7e",
   "metadata": {},
   "outputs": [
    {
     "name": "stdout",
     "output_type": "stream",
     "text": [
      "Hi! my name is hamdalah\n"
     ]
    }
   ],
   "source": [
    "#Method2: capitalize()\n",
    "#Use    : converts the first character to upper case.\n",
    "\n",
    "#Example:\n",
    "str = (\"hi! my name is Hamdalah\")\n",
    "txt = str.capitalize()\n",
    "print(txt)"
   ]
  },
  {
   "cell_type": "code",
   "execution_count": null,
   "id": "09cc9123-6c82-4298-9041-c707ab539584",
   "metadata": {},
   "outputs": [],
   "source": []
  },
  {
   "cell_type": "code",
   "execution_count": 46,
   "id": "aa24c3c4-5613-4d8b-ab2f-894408a4cb01",
   "metadata": {},
   "outputs": [
    {
     "name": "stdout",
     "output_type": "stream",
     "text": [
      "HI! MY NAME IS HAMDALAH\n"
     ]
    }
   ],
   "source": [
    "#Method3: upper()\n",
    "#Use    :converts all the characters of a string into uppercase.\n",
    "\n",
    "#Example:\n",
    "str = \"hi! my name is Hamdalah\"\n",
    "txt = str.upper()\n",
    "print(txt)"
   ]
  },
  {
   "cell_type": "code",
   "execution_count": null,
   "id": "2e639137-a010-4c82-8678-35c108ab227f",
   "metadata": {},
   "outputs": [],
   "source": []
  },
  {
   "cell_type": "code",
   "execution_count": 47,
   "id": "e36b2ed2-d1e3-4707-8670-c621f2b338da",
   "metadata": {},
   "outputs": [
    {
     "name": "stdout",
     "output_type": "stream",
     "text": [
      "hi! my name is hamdalah\n"
     ]
    }
   ],
   "source": [
    "#Method4: lower()\n",
    "#Use   : converts all the characters of a string into lowercase.\n",
    "\n",
    "#Examples:\n",
    "txt = str.lower()\n",
    "print(txt)"
   ]
  },
  {
   "cell_type": "code",
   "execution_count": null,
   "id": "0021d95d-5642-45ec-98e6-450c13f0667b",
   "metadata": {},
   "outputs": [],
   "source": []
  },
  {
   "cell_type": "code",
   "execution_count": 1,
   "id": "85fe0e07-175a-4f14-bffa-c3c25bd5dbf0",
   "metadata": {},
   "outputs": [
    {
     "data": {
      "text/plain": [
       "'hi!my name is vintage.'"
      ]
     },
     "execution_count": 1,
     "metadata": {},
     "output_type": "execute_result"
    }
   ],
   "source": [
    "#Method5: casefold()\n",
    "#Use    : converts strings to lower.It is stronger than .lower() method.\n",
    "\n",
    "#Examples:\n",
    "str_2 = \"HI!MY NAME IS VINTAGE.\"\n",
    "txt = str_2.casefold()\n",
    "txt"
   ]
  },
  {
   "cell_type": "code",
   "execution_count": null,
   "id": "5f6e3409-346b-42ac-a348-b422d92aa764",
   "metadata": {},
   "outputs": [],
   "source": []
  },
  {
   "cell_type": "code",
   "execution_count": 2,
   "id": "2f4eeb02-0b2b-4d42-8595-9e63b6a35023",
   "metadata": {},
   "outputs": [
    {
     "name": "stdout",
     "output_type": "stream",
     "text": [
      "OOOOOOorangesOOOOOOO\n"
     ]
    }
   ],
   "source": [
    "#Method6: center()\n",
    "#Use    : This will center align the string,using a specified character as the fill character\n",
    "\n",
    "#Example: Using the letter 'O' as the padding character\n",
    "\n",
    "txt = \"oranges\"\n",
    "x = txt.center(20, 'O')\n",
    "print(x)\n"
   ]
  },
  {
   "cell_type": "code",
   "execution_count": null,
   "id": "50767d81-2669-40a4-8346-bdaa8d78abca",
   "metadata": {},
   "outputs": [],
   "source": []
  },
  {
   "cell_type": "code",
   "execution_count": 5,
   "id": "046d7df4-9ff6-4ac0-a755-32bba35e35a5",
   "metadata": {},
   "outputs": [
    {
     "name": "stdout",
     "output_type": "stream",
     "text": [
      "True\n",
      "False\n"
     ]
    }
   ],
   "source": [
    "#Method7:  isalnum()\n",
    "#Use   :  This method returns True if all the characters are alphanumeric,ie (a-z) and (0-9)\n",
    "\n",
    "#Examples:\n",
    "\n",
    "str_3 = \"Class80\"\n",
    "str_4 = \"007James Bond\"\n",
    "x = str_3.isalnum()\n",
    "y = str_4.isalnum()\n",
    "print(x)\n",
    "print(y)"
   ]
  },
  {
   "cell_type": "code",
   "execution_count": null,
   "id": "e54f2d51-bae9-426c-a4cf-78964d0cf7cc",
   "metadata": {},
   "outputs": [],
   "source": []
  },
  {
   "cell_type": "code",
   "execution_count": 7,
   "id": "c841c4e0-eacf-4a75-b0d2-88db05b6d0d4",
   "metadata": {},
   "outputs": [
    {
     "name": "stdout",
     "output_type": "stream",
     "text": [
      "b'I am learning Datascience'\n"
     ]
    }
   ],
   "source": [
    "#Method6: encode()\n",
    "#Use: It returns with an encoded version of the string,using the specified encoding.If no encoding is specified,UTF-8 will be used.\n",
    "\n",
    "#Examples:\n",
    "txt = \"I am learning Datascience\"\n",
    "x = txt.encode()\n",
    "print(x)"
   ]
  },
  {
   "cell_type": "code",
   "execution_count": null,
   "id": "f5144046-66d9-4c56-87a6-a94dd5e0f2a3",
   "metadata": {},
   "outputs": [],
   "source": []
  },
  {
   "cell_type": "code",
   "execution_count": 9,
   "id": "65d80821-f999-4056-94ec-d850377481e8",
   "metadata": {},
   "outputs": [
    {
     "name": "stdout",
     "output_type": "stream",
     "text": [
      "True\n"
     ]
    }
   ],
   "source": [
    "#Method7: isdigit()\n",
    "#Use    :  returns true if all characters in the text are digits.\n",
    "\n",
    "#Example:Checknif all characters are digits\n",
    "\n",
    "str_5 = \"2003947\"\n",
    "y = str_5.isdigit()\n",
    "print(y)"
   ]
  },
  {
   "cell_type": "code",
   "execution_count": null,
   "id": "28a880dc-9377-4a7b-939a-0676b79ab33c",
   "metadata": {},
   "outputs": [],
   "source": []
  },
  {
   "cell_type": "code",
   "execution_count": 13,
   "id": "452bc8a6-5291-4f77-bd03-06f4fec389e1",
   "metadata": {},
   "outputs": [
    {
     "name": "stdout",
     "output_type": "stream",
     "text": [
      "True\n",
      "True\n",
      "False\n",
      "False\n"
     ]
    }
   ],
   "source": [
    "#Method8: isidentifier()\n",
    "#Doc:   A string is considered a valid identifier if it only contains alphanumerical letters(a-z) and (0_9) or underscores(_).\n",
    "#A valid identifier cannot start with a number or contain any space.\n",
    "\n",
    "#Examples:\n",
    "txt = \"Mountains\"\n",
    "x = txt.isidentifier()\n",
    "a = \"Mylist\"\n",
    "b = \"007James\"\n",
    "c = \"Aishah Muhammad\"\n",
    "\n",
    "print(x)\n",
    "print(a.isidentifier())\n",
    "print(b.isidentifier())\n",
    "print(c.isidentifier())"
   ]
  },
  {
   "cell_type": "code",
   "execution_count": null,
   "id": "b4dae89b-91c2-42e3-98d1-748e41b0aa4b",
   "metadata": {},
   "outputs": [],
   "source": []
  },
  {
   "cell_type": "code",
   "execution_count": null,
   "id": "75aaa572-8203-4db1-9a19-7bdc35b600d0",
   "metadata": {},
   "outputs": [],
   "source": [
    "#Method9: "
   ]
  },
  {
   "cell_type": "markdown",
   "id": "b2dbe9be-1df6-45cb-99f0-50dca3df8348",
   "metadata": {},
   "source": [
    "# NUMBERS\n",
    "## TYPES OF NUMBERS : Integers, Floats and Complex"
   ]
  },
  {
   "cell_type": "markdown",
   "id": "292faa84-fc6f-4159-bea3-f80611585822",
   "metadata": {},
   "source": [
    "### Methods or operations in numbers includes : "
   ]
  },
  {
   "cell_type": "code",
   "execution_count": 1,
   "id": "d32e2a6d-516a-406a-9278-996271afd268",
   "metadata": {},
   "outputs": [
    {
     "data": {
      "text/plain": [
       "15"
      ]
     },
     "execution_count": 1,
     "metadata": {},
     "output_type": "execute_result"
    }
   ],
   "source": [
    "# Addition : + sign\n",
    "\n",
    "7 + 8 "
   ]
  },
  {
   "cell_type": "code",
   "execution_count": 2,
   "id": "c891b467-f778-4f7b-8afb-8ec837315fa5",
   "metadata": {},
   "outputs": [
    {
     "data": {
      "text/plain": [
       "5"
      ]
     },
     "execution_count": 2,
     "metadata": {},
     "output_type": "execute_result"
    }
   ],
   "source": [
    "# Subtraction : minus sign (-)\n",
    "\n",
    "10  - 5"
   ]
  },
  {
   "cell_type": "code",
   "execution_count": 3,
   "id": "44b5169a-70c4-4a03-8894-80fb5f0e7fcc",
   "metadata": {},
   "outputs": [
    {
     "data": {
      "text/plain": [
       "50"
      ]
     },
     "execution_count": 3,
     "metadata": {},
     "output_type": "execute_result"
    }
   ],
   "source": [
    "# Multiplication : asteric sign (*)\n",
    "\n",
    "10 * 5"
   ]
  },
  {
   "cell_type": "code",
   "execution_count": 4,
   "id": "d1cb583a-e7dc-4770-afee-ae9a8c09cd3c",
   "metadata": {},
   "outputs": [
    {
     "data": {
      "text/plain": [
       "2.0"
      ]
     },
     "execution_count": 4,
     "metadata": {},
     "output_type": "execute_result"
    }
   ],
   "source": [
    "# Division : forward slash (/)\n",
    "\n",
    "10 / 5"
   ]
  },
  {
   "cell_type": "code",
   "execution_count": 5,
   "id": "21ce6d7c-1bc4-4931-b62a-d2c6bc61a0ff",
   "metadata": {},
   "outputs": [
    {
     "data": {
      "text/plain": [
       "2"
      ]
     },
     "execution_count": 5,
     "metadata": {},
     "output_type": "execute_result"
    }
   ],
   "source": [
    "# floor division : double forward slash (//)\n",
    "# This gives the whole number excluding the decimal of the result.\n",
    "\n",
    "# Example:\n",
    "\n",
    "8 // 3"
   ]
  },
  {
   "cell_type": "code",
   "execution_count": 3,
   "id": "a33e2379-fbb4-4561-928e-ee35eaaba712",
   "metadata": {},
   "outputs": [
    {
     "data": {
      "text/plain": [
       "1"
      ]
     },
     "execution_count": 3,
     "metadata": {},
     "output_type": "execute_result"
    }
   ],
   "source": [
    "# Modular divison : %\n",
    "#Use : This gives the remainder or decimal part of a division\n",
    "\n",
    "# Example :\n",
    "\n",
    "10 % 3\n"
   ]
  },
  {
   "cell_type": "code",
   "execution_count": 4,
   "id": "e8d2810e-6bf4-4cbf-8c14-cbcec27c7f58",
   "metadata": {},
   "outputs": [
    {
     "data": {
      "text/plain": [
       "81"
      ]
     },
     "execution_count": 4,
     "metadata": {},
     "output_type": "execute_result"
    }
   ],
   "source": [
    "# Method 7: power (**)\n",
    "# Use : This expresses the indices or power of a number\n",
    "\n",
    "# Example : \n",
    "\n",
    "9 ** 2"
   ]
  },
  {
   "cell_type": "code",
   "execution_count": 5,
   "id": "ec26954c-934c-406c-bcd3-75b2f7c2490f",
   "metadata": {},
   "outputs": [
    {
     "name": "stdout",
     "output_type": "stream",
     "text": [
      "40\n"
     ]
    }
   ],
   "source": [
    "# Method 8: print( )\n",
    "# This displays the result of an operation\n",
    "\n",
    "# Example:\n",
    "\n",
    "print(6*5+10)\n",
    "\n"
   ]
  },
  {
   "cell_type": "code",
   "execution_count": 6,
   "id": "efabd8f1-0844-446d-b04c-0e6b6f4b5288",
   "metadata": {},
   "outputs": [
    {
     "data": {
      "text/plain": [
       "float"
      ]
     },
     "execution_count": 6,
     "metadata": {},
     "output_type": "execute_result"
    }
   ],
   "source": [
    "# Method 9: type() function\n",
    "# Use: This returns the argument or the type of variable\n",
    "\n",
    "# Example:\n",
    "\n",
    "type(0.9)"
   ]
  },
  {
   "cell_type": "code",
   "execution_count": null,
   "id": "48b246ef-c776-4e6a-b6bf-b7560430de8e",
   "metadata": {},
   "outputs": [],
   "source": []
  },
  {
   "cell_type": "code",
   "execution_count": null,
   "id": "42bdfd2f-84f3-40a0-8f06-0cb38672f030",
   "metadata": {},
   "outputs": [],
   "source": []
  },
  {
   "cell_type": "code",
   "execution_count": null,
   "id": "a0007260-1859-4bc6-8a4f-a6e926277fe4",
   "metadata": {},
   "outputs": [],
   "source": []
  },
  {
   "cell_type": "markdown",
   "id": "568ebc96-9dfe-4ee4-a43a-bfdb599f7194",
   "metadata": {},
   "source": [
    "# TUPLES"
   ]
  },
  {
   "cell_type": "code",
   "execution_count": 9,
   "id": "9c1957f5-9950-4121-934b-e1069c1acfdf",
   "metadata": {},
   "outputs": [],
   "source": [
    "# Method 1 : Creating a tuple (),we use curve bracket to create tuples\n",
    "\n",
    "# Use : This is use to create an array of items that are not changeable[immutable]\n",
    "\n",
    "# Example :\n",
    "\n",
    "tup = (46,45,48,47,44)"
   ]
  },
  {
   "cell_type": "code",
   "execution_count": 8,
   "id": "d5f8f535-b30e-45d2-8b26-0ccaaa9798d3",
   "metadata": {},
   "outputs": [
    {
     "data": {
      "text/plain": [
       "47"
      ]
     },
     "execution_count": 8,
     "metadata": {},
     "output_type": "execute_result"
    }
   ],
   "source": [
    "# Method 2 : indexing []\n",
    "\n",
    "tup[3]"
   ]
  },
  {
   "cell_type": "code",
   "execution_count": 11,
   "id": "91e4fa6e-b3c6-4019-a19c-5576f2dd2ddf",
   "metadata": {},
   "outputs": [
    {
     "data": {
      "text/plain": [
       "5"
      ]
     },
     "execution_count": 11,
     "metadata": {},
     "output_type": "execute_result"
    }
   ],
   "source": [
    "#Method 4: len()\n",
    "#Use : This retutns the number of items in a tuple\n",
    "# Example :\n",
    "\n",
    "len(tup)"
   ]
  },
  {
   "cell_type": "code",
   "execution_count": null,
   "id": "38769142-79d5-42fa-baa1-0a61875a4cd4",
   "metadata": {},
   "outputs": [],
   "source": []
  }
 ],
 "metadata": {
  "kernelspec": {
   "display_name": "Python 3 (ipykernel)",
   "language": "python",
   "name": "python3"
  },
  "language_info": {
   "codemirror_mode": {
    "name": "ipython",
    "version": 3
   },
   "file_extension": ".py",
   "mimetype": "text/x-python",
   "name": "python",
   "nbconvert_exporter": "python",
   "pygments_lexer": "ipython3",
   "version": "3.12.7"
  }
 },
 "nbformat": 4,
 "nbformat_minor": 5
}
